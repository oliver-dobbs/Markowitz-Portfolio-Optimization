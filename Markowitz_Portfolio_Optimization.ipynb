{
 "cells": [
  {
   "cell_type": "markdown",
   "id": "052dd659-4a16-4951-8bb1-a9cb30019038",
   "metadata": {},
   "source": [
    "# Markowitz Portfolio Optimization"
   ]
  },
  {
   "cell_type": "markdown",
   "id": "8a1c4646-94e6-4807-ba3e-27f27e590031",
   "metadata": {},
   "source": [
    "### Import Packages"
   ]
  },
  {
   "cell_type": "code",
   "execution_count": null,
   "id": "bea9a9cf-2938-435c-a5d6-c9970826a437",
   "metadata": {},
   "outputs": [],
   "source": [
    "import numpy as np\n",
    "import pandas as pd\n",
    "import yfinance as yf\n",
    "\n",
    "import matplotlib.pyplot as plt"
   ]
  },
  {
   "cell_type": "markdown",
   "id": "bd78a86a-922c-4aec-b2eb-352ae208da7c",
   "metadata": {},
   "source": [
    "### Input List of Tickers"
   ]
  },
  {
   "cell_type": "code",
   "execution_count": null,
   "id": "3b6460e7-28cd-4f35-8e31-13b4b3c28ea7",
   "metadata": {},
   "outputs": [],
   "source": [
    "ticker_list = ['AAPL','MSFT','GOOG','AMZN','TSLA','META']"
   ]
  },
  {
   "cell_type": "markdown",
   "id": "8141922f-ce73-4c58-8e17-df19c98d0992",
   "metadata": {},
   "source": [
    "### Extract Closing Price from YFinance and Compile into Data Frame"
   ]
  },
  {
   "cell_type": "code",
   "execution_count": null,
   "id": "dcf19e57-fbbc-4572-8211-8cccca3934ae",
   "metadata": {},
   "outputs": [],
   "source": [
    "count = 0\n",
    "for ticker in ticker_list:\n",
    "    if count == 0:\n",
    "        ticker_y = yf.Ticker(ticker)\n",
    "        df = ticker_y.history(period=\"5y\")\n",
    "        df = df.reset_index()\n",
    "        df = df.loc[:, ('Date','Close')]\n",
    "        df = df.rename({'Close':ticker},axis=1)\n",
    "        count += 1\n",
    "        \n",
    "    else:\n",
    "        ticker_y = yf.Ticker(ticker)\n",
    "        df_append = ticker_y.history(period=\"5y\")\n",
    "        df_append = df_append.reset_index()\n",
    "        df_append = df_append.loc[:, ('Date','Close')]\n",
    "        df_append = df_append.rename({'Close':ticker},axis=1)\n",
    "        if len(df_append)==len(df):\n",
    "            df[ticker]= df_append[ticker]\n",
    "        else:\n",
    "            print(ticker + ' does not match the length beacuse the stock is too new remove it')"
   ]
  },
  {
   "cell_type": "code",
   "execution_count": null,
   "id": "2f6d612d-f31a-4713-9f8f-0600f9b30763",
   "metadata": {},
   "outputs": [],
   "source": [
    "df_tickers = df.drop('Date',axis=1)"
   ]
  },
  {
   "cell_type": "code",
   "execution_count": null,
   "id": "9265be9d-e31d-47a4-b400-37c9839bcf1e",
   "metadata": {},
   "outputs": [],
   "source": [
    "df_tickers.head()"
   ]
  },
  {
   "cell_type": "markdown",
   "id": "ef80776f-9f3c-4d2d-8e36-8d06f4693ea2",
   "metadata": {},
   "source": [
    "### Find Daily and Annual Returns"
   ]
  },
  {
   "cell_type": "code",
   "execution_count": null,
   "id": "dadb67d7-ff42-49df-b7e4-3baef74ddd3e",
   "metadata": {},
   "outputs": [],
   "source": [
    "returns_daily = df_tickers.pct_change()\n",
    "returns_annual = returns_daily.mean() * 250"
   ]
  },
  {
   "cell_type": "code",
   "execution_count": null,
   "id": "f0ceb78d-a4ed-43a8-beee-4342d55d0102",
   "metadata": {},
   "outputs": [],
   "source": [
    "cov_daily = returns_daily.cov()\n",
    "cov_annual = cov_daily * 250"
   ]
  },
  {
   "cell_type": "markdown",
   "id": "7af79cb2-838b-4884-8a6e-49d13511655c",
   "metadata": {},
   "source": [
    "### Create Portfolios Adjusting for Weights and Calculate Volatility, Returns and Sharpe Ratio"
   ]
  },
  {
   "cell_type": "code",
   "execution_count": null,
   "id": "c9285af1-f500-4dd9-9e1c-dedb661eeaac",
   "metadata": {},
   "outputs": [],
   "source": [
    "returns_list = []\n",
    "volatility_list = []\n",
    "sharpe_ratio = []\n",
    "stock_weights = []\n",
    "\n",
    "\n",
    "num_assets = len(ticker_list)\n",
    "num_portfolios = 200000\n",
    "\n",
    "\n",
    "for single_portfolio in range(num_portfolios):\n",
    "    weights = np.random.random(num_assets)\n",
    "    weights /= np.sum(weights)\n",
    "    returns = np.dot(weights, returns_annual)\n",
    "    volatility = np.sqrt(np.dot(weights.T, np.dot(cov_annual, weights)))\n",
    "    sharpe = returns/volatility\n",
    "    sharpe_ratio.append(sharpe)\n",
    "    returns_list.append(returns)\n",
    "    volatility_list.append(volatility)\n",
    "    stock_weights.append(weights)\n",
    "\n",
    "portfolio = {'Returns': returns_list,\n",
    "             'Volatility': volatility_list,\n",
    "            'Sharpe_Ratio':sharpe_ratio}\n",
    "\n",
    "\n",
    "for counter,symbol in enumerate(ticker_list):\n",
    "    portfolio[symbol+'_weight'] = [weight[counter] for weight in stock_weights]\n",
    "\n",
    "\n",
    "df = pd.DataFrame(portfolio)\n",
    "\n",
    "\n",
    "column_order = ['Returns', 'Volatility','Sharpe_Ratio'] + [stock+'_weight' for stock in ticker_list]\n",
    "\n",
    "df = df[column_order]\n",
    "\n",
    "df.head()"
   ]
  },
  {
   "cell_type": "code",
   "execution_count": null,
   "id": "d567aaf1-f953-4a4e-95a8-1799b306633c",
   "metadata": {},
   "outputs": [],
   "source": [
    "minimum_volatility = df.Volatility.min()\n",
    "maximum_sharpe = df.Sharpe_Ratio.max()"
   ]
  },
  {
   "cell_type": "code",
   "execution_count": null,
   "id": "3756789d-bcbf-4f5f-a808-867d86772a48",
   "metadata": {},
   "outputs": [],
   "source": [
    "maximum_sharpe_portfolio = df.loc[df.Sharpe_Ratio == maximum_sharpe]\n",
    "minimum_volatility_portfolio = df.loc[df.Volatility == minimum_volatility]"
   ]
  },
  {
   "cell_type": "markdown",
   "id": "c5f8335f-375e-4a28-9053-89d7f185b868",
   "metadata": {},
   "source": [
    "### Minimum Volatility Weightings"
   ]
  },
  {
   "cell_type": "code",
   "execution_count": null,
   "id": "78a2c72d-c4db-4e7b-af7c-7e9344f48726",
   "metadata": {},
   "outputs": [],
   "source": [
    "minimum_volatility_portfolio.T"
   ]
  },
  {
   "cell_type": "markdown",
   "id": "a7309ace-cdcf-4d8e-bc71-d38d7eedfea0",
   "metadata": {},
   "source": [
    "### Maximum Sharpe Ratio Weightings"
   ]
  },
  {
   "cell_type": "code",
   "execution_count": null,
   "id": "5767a431-a211-4430-90ed-dddffa1274d6",
   "metadata": {},
   "outputs": [],
   "source": [
    "maximum_sharpe_portfolio.T"
   ]
  },
  {
   "cell_type": "markdown",
   "id": "ec1558b6-9711-4555-988a-911a04b15e19",
   "metadata": {},
   "source": [
    "### Plot Results"
   ]
  },
  {
   "cell_type": "code",
   "execution_count": null,
   "id": "64b90bdd-68f7-46bc-b38d-e975480ebe81",
   "metadata": {},
   "outputs": [],
   "source": [
    "plt.rcParams.update({'figure.figsize':(20,13)})\n",
    "plt.rcParams.update({'font.size':20})"
   ]
  },
  {
   "cell_type": "code",
   "execution_count": null,
   "id": "3cd48cf4-8a86-48b2-8197-9adf88bae357",
   "metadata": {},
   "outputs": [],
   "source": [
    "plt.scatter(df.Volatility, df.Returns,marker='.',c = df.Sharpe_Ratio, cmap='RdYlGn')\n",
    "plt.colorbar().set_label('Sharpe Ratio')\n",
    "plt.xlabel('Volatility')\n",
    "plt.ylabel('Returns')\n",
    "plt.title('Markowitz’s Efficient Frontier')\n",
    "\n",
    "plt.scatter(x=maximum_sharpe_portfolio.Volatility, y=maximum_sharpe_portfolio.Returns, c='firebrick', marker='P', s=400, label=\"maximum_sharpe\")\n",
    "plt.scatter(x=minimum_volatility_portfolio.Volatility, y=minimum_volatility_portfolio.Returns, c='royalblue', marker='X', s=400, label=\"minimum_volatility\")\n",
    "plt.legend()"
   ]
  },
  {
   "cell_type": "code",
   "execution_count": null,
   "id": "9f1cf92f-c85b-4ea5-9ff4-aa2c596a71c5",
   "metadata": {},
   "outputs": [],
   "source": []
  },
  {
   "cell_type": "code",
   "execution_count": null,
   "id": "487d9b2b-ca9a-43d9-ace7-ae98789591f2",
   "metadata": {},
   "outputs": [],
   "source": []
  }
 ],
 "metadata": {
  "kernelspec": {
   "display_name": "Python 3 (ipykernel)",
   "language": "python",
   "name": "python3"
  },
  "language_info": {
   "codemirror_mode": {
    "name": "ipython",
    "version": 3
   },
   "file_extension": ".py",
   "mimetype": "text/x-python",
   "name": "python",
   "nbconvert_exporter": "python",
   "pygments_lexer": "ipython3",
   "version": "3.9.10"
  }
 },
 "nbformat": 4,
 "nbformat_minor": 5
}
